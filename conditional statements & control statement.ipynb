{
 "cells": [
  {
   "cell_type": "code",
   "execution_count": 3,
   "id": "c1d5519f-164d-4224-bdc4-ef6e447c39cc",
   "metadata": {},
   "outputs": [
    {
     "name": "stdout",
     "output_type": "stream",
     "text": [
      "correct\n",
      "10\n"
     ]
    }
   ],
   "source": [
    "#conditional statements\n",
    "#if statement\n",
    "a = 4\n",
    "if a==4:\n",
    "    print(\"correct\")\n",
    "\n",
    "b = 6\n",
    "sum = a+b\n",
    "if sum == 10:\n",
    "    print(sum)"
   ]
  },
  {
   "cell_type": "code",
   "execution_count": 7,
   "id": "17f4b78d-16ac-4874-ac59-07bd50bed775",
   "metadata": {},
   "outputs": [
    {
     "name": "stdin",
     "output_type": "stream",
     "text": [
      "enter the age: 16\n"
     ]
    },
    {
     "name": "stdout",
     "output_type": "stream",
     "text": [
      "the person can't vote\n"
     ]
    }
   ],
   "source": [
    "#else statements\n",
    "vote = int(input(\"enter the age:\"))\n",
    "if vote>=18:\n",
    "    print(\"the person can vote\")\n",
    "else:\n",
    "    print(\"the person can't vote\")"
   ]
  },
  {
   "cell_type": "code",
   "execution_count": 9,
   "id": "6783d50d-8abb-4562-86b6-e0a769eec362",
   "metadata": {},
   "outputs": [
    {
     "name": "stdout",
     "output_type": "stream",
     "text": [
      "3\n"
     ]
    }
   ],
   "source": [
    "#elif statements\n",
    "a,b,c = 1,2,3\n",
    "if (a>b and a>c):\n",
    "    print(a)\n",
    "elif (b>c and b>a):\n",
    "    print(b)\n",
    "else:\n",
    "    print(c)"
   ]
  },
  {
   "cell_type": "code",
   "execution_count": 23,
   "id": "24b74e82-f583-4ccc-8648-ec0bda2208de",
   "metadata": {},
   "outputs": [
    {
     "name": "stdout",
     "output_type": "stream",
     "text": [
      "while: 5\n",
      "1\n",
      "2\n",
      "3\n",
      "4\n",
      "5\n",
      "6\n",
      "7\n",
      "8\n",
      "9\n",
      "10\n"
     ]
    }
   ],
   "source": [
    "#loop statements\n",
    "#while loop\n",
    "n = 5\n",
    "while n<=5:\n",
    "    print(\"while:\",n)\n",
    "    n = n+1\n",
    "\n",
    "#for loop\n",
    "for i in range(1,11):\n",
    "    print(i)"
   ]
  },
  {
   "cell_type": "code",
   "execution_count": 29,
   "id": "14ef3604-dd05-4783-8c9f-1937b94965ca",
   "metadata": {},
   "outputs": [
    {
     "name": "stdout",
     "output_type": "stream",
     "text": [
      "values: Roar\n",
      "values: meow\n",
      "values: Barks\n",
      "values: buzzes\n",
      "keys: Lion\n",
      "keys: cat\n",
      "keys: Dogs\n",
      "keys: Bee\n"
     ]
    }
   ],
   "source": [
    "animal_sound = {\n",
    "    'Lion':'Roar',\n",
    "    'cat':'meow',\n",
    "    'Dogs':'Barks',\n",
    "    'Bee':'buzzes' }\n",
    "for i in animal_sound.values():\n",
    "    print(\"values:\",i)\n",
    "for i in animal_sound.keys():\n",
    "    print(\"keys:\",i)"
   ]
  },
  {
   "cell_type": "code",
   "execution_count": 7,
   "id": "bd61ecb7-beb3-4b54-955d-7bbbdb0f065d",
   "metadata": {},
   "outputs": [
    {
     "name": "stdout",
     "output_type": "stream",
     "text": [
      "0\n",
      "1\n",
      "3\n",
      "4\n"
     ]
    }
   ],
   "source": [
    "#control statements\n",
    "#pass()\n",
    "for i in range(5):\n",
    "    if (i==2):\n",
    "        pass\n",
    "    else:\n",
    "        print(i)"
   ]
  },
  {
   "cell_type": "code",
   "execution_count": 46,
   "id": "f8b358b0-66c1-4816-b6da-25ee9808bdf9",
   "metadata": {},
   "outputs": [
    {
     "name": "stdout",
     "output_type": "stream",
     "text": [
      "0\n",
      "1\n",
      "3\n",
      "4\n",
      "5\n",
      "6\n"
     ]
    }
   ],
   "source": [
    "#break()\n",
    "for i in range(10):\n",
    "    if (i==2):\n",
    "        pass\n",
    "    elif (i==7):\n",
    "        break\n",
    "    else:\n",
    "        print(i)\n",
    "        \n",
    "    "
   ]
  },
  {
   "cell_type": "code",
   "execution_count": 50,
   "id": "9f259530-4985-4a73-91d4-45a031ae33d2",
   "metadata": {},
   "outputs": [
    {
     "name": "stdout",
     "output_type": "stream",
     "text": [
      "0\n",
      "1\n",
      "2\n",
      "3\n",
      "5\n"
     ]
    }
   ],
   "source": [
    "#continue()\n",
    "for i in range(6):\n",
    "    if i==4:\n",
    "        continue\n",
    "    else:\n",
    "        print(i)"
   ]
  },
  {
   "cell_type": "code",
   "execution_count": null,
   "id": "fb59e028-00bf-4aca-b874-84e69937dc7c",
   "metadata": {},
   "outputs": [],
   "source": []
  }
 ],
 "metadata": {
  "kernelspec": {
   "display_name": "Python 3 (ipykernel)",
   "language": "python",
   "name": "python3"
  },
  "language_info": {
   "codemirror_mode": {
    "name": "ipython",
    "version": 3
   },
   "file_extension": ".py",
   "mimetype": "text/x-python",
   "name": "python",
   "nbconvert_exporter": "python",
   "pygments_lexer": "ipython3",
   "version": "3.12.4"
  }
 },
 "nbformat": 4,
 "nbformat_minor": 5
}
