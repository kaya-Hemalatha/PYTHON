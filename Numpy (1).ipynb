{
 "cells": [
  {
   "cell_type": "code",
   "execution_count": 3,
   "id": "4da4d0cb-9716-4aea-a5b5-0a12ecccdb1d",
   "metadata": {},
   "outputs": [
    {
     "name": "stdout",
     "output_type": "stream",
     "text": [
      "Requirement already satisfied: Numpy in c:\\users\\kayah\\anaconda\\lib\\site-packages (1.26.4)\n"
     ]
    }
   ],
   "source": [
    "!pip install Numpy"
   ]
  },
  {
   "cell_type": "code",
   "execution_count": 4,
   "id": "8a89471e-5669-4e25-a0a8-29e7444ed580",
   "metadata": {},
   "outputs": [
    {
     "name": "stdout",
     "output_type": "stream",
     "text": [
      "[1 2 3]\n",
      "[[2.3 1.  3. ]\n",
      " [7.  8.  9. ]]\n",
      "[[[2.3 1.  3. ]\n",
      "  [7.  8.  9. ]]\n",
      "\n",
      " [[1.5 2.5 3.5]\n",
      "  [6.  4.9 2. ]]]\n"
     ]
    }
   ],
   "source": [
    "#importing numpy\n",
    "import numpy as np\n",
    "#creating numpy\n",
    "a = np.array([1,2,3])  #1D\n",
    "b = np.array([(2.3,1,3),(7,8,9)],dtype = float)\n",
    "c = np.array([[(2.3,1,3),(7,8,9)],[(1.5,2.5,3.5),(6,4.9,2)]],dtype = float)\n",
    "print(a)\n",
    "print(b)\n",
    "print(c)"
   ]
  },
  {
   "cell_type": "code",
   "execution_count": 18,
   "id": "95492f25-6f74-4fb0-b1c6-6ef8115685a7",
   "metadata": {},
   "outputs": [
    {
     "data": {
      "text/plain": [
       "array([0., 0., 0.])"
      ]
     },
     "execution_count": 18,
     "metadata": {},
     "output_type": "execute_result"
    }
   ],
   "source": [
    "#initial placeholders\n",
    "#create an array of zeros\n",
    "np.zeros((3))   #creating 1D array"
   ]
  },
  {
   "cell_type": "code",
   "execution_count": 20,
   "id": "2c0c8116-0a3e-4663-8725-e49aeebf8a57",
   "metadata": {},
   "outputs": [
    {
     "data": {
      "text/plain": [
       "array([[0., 0., 0.],\n",
       "       [0., 0., 0.]])"
      ]
     },
     "execution_count": 20,
     "metadata": {},
     "output_type": "execute_result"
    }
   ],
   "source": [
    "np.zeros((2,3))  #creating 2D array"
   ]
  },
  {
   "cell_type": "code",
   "execution_count": 22,
   "id": "bacdb810-389b-4c49-a57b-c65e741fe080",
   "metadata": {},
   "outputs": [
    {
     "data": {
      "text/plain": [
       "array([[[1., 1., 1., 1.],\n",
       "        [1., 1., 1., 1.],\n",
       "        [1., 1., 1., 1.]],\n",
       "\n",
       "       [[1., 1., 1., 1.],\n",
       "        [1., 1., 1., 1.],\n",
       "        [1., 1., 1., 1.]]])"
      ]
     },
     "execution_count": 22,
     "metadata": {},
     "output_type": "execute_result"
    }
   ],
   "source": [
    "#create an array of ones\n",
    "np.ones((2,3,4))  #shape, rows,cols"
   ]
  },
  {
   "cell_type": "code",
   "execution_count": 26,
   "id": "91146707-2d9c-418b-a4bc-fdc3e06a82fa",
   "metadata": {},
   "outputs": [
    {
     "name": "stdout",
     "output_type": "stream",
     "text": [
      "[ 1  5  9 13 17 21 25 29 33 37]\n"
     ]
    }
   ],
   "source": [
    "#creating an array of evenly spaced values\n",
    "d = np.arange(1,40,4)   #n-1 = (4-1 = 2)\n",
    "print(d)"
   ]
  },
  {
   "cell_type": "code",
   "execution_count": 42,
   "id": "2cf5cb05-ff85-4275-b3bc-feee72c64eed",
   "metadata": {},
   "outputs": [
    {
     "data": {
      "text/plain": [
       "array([10.        , 12.14285714, 14.28571429, 16.42857143, 18.57142857,\n",
       "       20.71428571, 22.85714286, 25.        ])"
      ]
     },
     "execution_count": 42,
     "metadata": {},
     "output_type": "execute_result"
    }
   ],
   "source": [
    "#create an array of evenly spaced values \n",
    "np.linspace(10,25,8)"
   ]
  },
  {
   "cell_type": "code",
   "execution_count": 44,
   "id": "c5128a7d-d2b5-491f-8d9d-ebbd0aae67c6",
   "metadata": {},
   "outputs": [
    {
     "name": "stdout",
     "output_type": "stream",
     "text": [
      "[10 10 10 10 10]\n",
      "1\n"
     ]
    }
   ],
   "source": [
    "#create a constant array\n",
    "#create 1D array\n",
    "e = np.full((5),10)\n",
    "print(e)\n",
    "print(e.ndim)"
   ]
  },
  {
   "cell_type": "code",
   "execution_count": 48,
   "id": "45556926-a32d-4442-9883-37333eb79084",
   "metadata": {},
   "outputs": [
    {
     "name": "stdout",
     "output_type": "stream",
     "text": [
      "[[55 55 55 55]\n",
      " [55 55 55 55]\n",
      " [55 55 55 55]\n",
      " [55 55 55 55]\n",
      " [55 55 55 55]]\n",
      "2\n"
     ]
    }
   ],
   "source": [
    "#create 2D array\n",
    "e = np.full((5,4),55)\n",
    "print(e)\n",
    "print(e.ndim)"
   ]
  },
  {
   "cell_type": "code",
   "execution_count": 52,
   "id": "6b57af4d-33fb-43c7-aac8-bbf449c09639",
   "metadata": {},
   "outputs": [
    {
     "name": "stdout",
     "output_type": "stream",
     "text": [
      "[[[8 8 8]\n",
      "  [8 8 8]\n",
      "  [8 8 8]\n",
      "  [8 8 8]]\n",
      "\n",
      " [[8 8 8]\n",
      "  [8 8 8]\n",
      "  [8 8 8]\n",
      "  [8 8 8]]\n",
      "\n",
      " [[8 8 8]\n",
      "  [8 8 8]\n",
      "  [8 8 8]\n",
      "  [8 8 8]]\n",
      "\n",
      " [[8 8 8]\n",
      "  [8 8 8]\n",
      "  [8 8 8]\n",
      "  [8 8 8]]\n",
      "\n",
      " [[8 8 8]\n",
      "  [8 8 8]\n",
      "  [8 8 8]\n",
      "  [8 8 8]]\n",
      "\n",
      " [[8 8 8]\n",
      "  [8 8 8]\n",
      "  [8 8 8]\n",
      "  [8 8 8]]]\n",
      "3\n"
     ]
    }
   ],
   "source": [
    "#create 3D array\n",
    "e = np.full((6,4,3),8)\n",
    "print(e)\n",
    "print(e.ndim)"
   ]
  },
  {
   "cell_type": "code",
   "execution_count": 58,
   "id": "fbd4686f-abc6-40e1-bce4-5891713b5f6d",
   "metadata": {},
   "outputs": [
    {
     "name": "stdout",
     "output_type": "stream",
     "text": [
      "[[1. 0. 0. 0.]\n",
      " [0. 1. 0. 0.]\n",
      " [0. 0. 1. 0.]\n",
      " [0. 0. 0. 1.]]\n"
     ]
    }
   ],
   "source": [
    "#create a 2*2 identity matrix\n",
    "f = np.eye(4)\n",
    "print(f)"
   ]
  },
  {
   "cell_type": "code",
   "execution_count": 62,
   "id": "e70997fe-66d3-4308-a38a-129bd997829c",
   "metadata": {},
   "outputs": [
    {
     "data": {
      "text/plain": [
       "array([[0.18478674, 0.92555527, 0.96171253, 0.58723292, 0.85820582],\n",
       "       [0.81282752, 0.20628411, 0.68413132, 0.7369891 , 0.1231294 ],\n",
       "       [0.79214971, 0.20894245, 0.716696  , 0.02223941, 0.57534763],\n",
       "       [0.64455881, 0.62463597, 0.69861354, 0.17730574, 0.43612525]])"
      ]
     },
     "execution_count": 62,
     "metadata": {},
     "output_type": "execute_result"
    }
   ],
   "source": [
    "#create an array with random values\n",
    "np.random.random((4,5))  #row,columns"
   ]
  },
  {
   "cell_type": "code",
   "execution_count": 68,
   "id": "90315f6d-7a7f-451c-8a7b-08bfe2880140",
   "metadata": {},
   "outputs": [
    {
     "data": {
      "text/plain": [
       "11"
      ]
     },
     "execution_count": 68,
     "metadata": {},
     "output_type": "execute_result"
    }
   ],
   "source": [
    "np.random.randint(1,15)"
   ]
  },
  {
   "cell_type": "code",
   "execution_count": 70,
   "id": "4567059a-d2ea-4983-86f6-f916efbf60b2",
   "metadata": {},
   "outputs": [
    {
     "name": "stdout",
     "output_type": "stream",
     "text": [
      "(4, 4)\n"
     ]
    }
   ],
   "source": [
    "#to find shape of an array \n",
    "arr = np.array([[1,2,3,4],\n",
    "               [2,3,4,5],\n",
    "               [3,4,5,6],\n",
    "               [7,8,5,6]])\n",
    "print(arr.shape)"
   ]
  },
  {
   "cell_type": "code",
   "execution_count": 72,
   "id": "16890902-3e9f-44ba-aeb0-4f94e1570af1",
   "metadata": {},
   "outputs": [
    {
     "name": "stdout",
     "output_type": "stream",
     "text": [
      "9\n"
     ]
    }
   ],
   "source": [
    "#to find no of elements in array\n",
    "arr = np.array([[1,2,3],\n",
    "                [4,5,6],\n",
    "                [7,8,9]])\n",
    "print(arr.size)"
   ]
  },
  {
   "cell_type": "code",
   "execution_count": 74,
   "id": "16c3fb0e-a06c-4fea-ba8e-33af82ddad6a",
   "metadata": {},
   "outputs": [
    {
     "data": {
      "text/plain": [
       "5"
      ]
     },
     "execution_count": 74,
     "metadata": {},
     "output_type": "execute_result"
    }
   ],
   "source": [
    "#to find len of array\n",
    "arr = np.array([[1,2,3,4],\n",
    "                [4,5,6,7],\n",
    "                [5,6,7,8],\n",
    "                [3,4,5,2],\n",
    "                [2,8,9,3]])\n",
    "len(arr)"
   ]
  },
  {
   "cell_type": "code",
   "execution_count": 5,
   "id": "52701dcf-f984-49e0-afa6-a03134ec2f11",
   "metadata": {},
   "outputs": [
    {
     "name": "stdout",
     "output_type": "stream",
     "text": [
      "1\n"
     ]
    }
   ],
   "source": [
    "#Access array elements\n",
    "arr = np.array([1,2,3,4])\n",
    "print(arr[0])"
   ]
  },
  {
   "cell_type": "code",
   "execution_count": 9,
   "id": "d662643b-29cb-4eef-a16e-57fb28195a14",
   "metadata": {},
   "outputs": [
    {
     "name": "stdout",
     "output_type": "stream",
     "text": [
      "13\n"
     ]
    }
   ],
   "source": [
    "#Adding two index position\n",
    "arr = np.array([1,2,3,4,5,6,7])\n",
    "print(arr[3]-arr[1]+arr[5]+arr[4])    #1D array"
   ]
  },
  {
   "cell_type": "code",
   "execution_count": 11,
   "id": "0813d5cf-83b7-414c-a059-e863ee3b6bd4",
   "metadata": {},
   "outputs": [
    {
     "name": "stdout",
     "output_type": "stream",
     "text": [
      "5\n"
     ]
    }
   ],
   "source": [
    "#Access 2D array\n",
    "arr = np.array([[1,2,3,4],\n",
    "                [2,9,8,7],\n",
    "                [3,4,5,6],\n",
    "                [6,6,7,4]])  #(1D,elements)\n",
    "print(arr[2,2])"
   ]
  },
  {
   "cell_type": "code",
   "execution_count": 13,
   "id": "55866d5d-04a6-45a3-a4f3-c84a2c2a038c",
   "metadata": {},
   "outputs": [
    {
     "name": "stdout",
     "output_type": "stream",
     "text": [
      "9\n"
     ]
    }
   ],
   "source": [
    "#Access 3-D array\n",
    "arr = np.array([[[1,2,3],[2,3,4]],\n",
    "                [[3,4,5],[4,5,6]],\n",
    "                [[5,6,7],[8,6,9]],\n",
    "                [[2,5,8],[7,8,2]]])\n",
    "#Access by index\n",
    "print(arr[2,1,2])  #2D,1D,element"
   ]
  },
  {
   "cell_type": "code",
   "execution_count": 27,
   "id": "452e547b-fc39-4fb1-bbb6-e87be0517997",
   "metadata": {},
   "outputs": [
    {
     "name": "stdout",
     "output_type": "stream",
     "text": [
      "[b'1' b'2' b'3' b'4']\n",
      "|S1\n"
     ]
    }
   ],
   "source": [
    "#Data types\n",
    "#string\n",
    "arr = np.array([1,2,3,4],dtype = 'S')\n",
    "print(arr)\n",
    "print(arr.dtype)"
   ]
  },
  {
   "cell_type": "code",
   "execution_count": 35,
   "id": "d19f3321-3204-4e3f-be8e-93be129726e4",
   "metadata": {},
   "outputs": [
    {
     "name": "stdout",
     "output_type": "stream",
     "text": [
      "[1 2 3 4]\n",
      "int32\n"
     ]
    }
   ],
   "source": [
    "#int\n",
    "arr = np.array([1,2,3,4],dtype = 'i')\n",
    "print(arr)\n",
    "print(arr.dtype)"
   ]
  },
  {
   "cell_type": "code",
   "execution_count": 37,
   "id": "33b55f3f-6dc2-4615-93ca-5b7d1f510795",
   "metadata": {},
   "outputs": [
    {
     "name": "stdout",
     "output_type": "stream",
     "text": [
      "[1 2 1 2]\n",
      "int32\n"
     ]
    }
   ],
   "source": [
    "#float to integer\n",
    "arr = np.array([1.9,2.3,1.25,2.25])\n",
    "newarr = arr.astype('i')\n",
    "print(newarr)\n",
    "print(newarr.dtype)"
   ]
  },
  {
   "cell_type": "code",
   "execution_count": 39,
   "id": "2509c395-1aab-42fd-8569-57fd623c4081",
   "metadata": {},
   "outputs": [
    {
     "name": "stdout",
     "output_type": "stream",
     "text": [
      "[ True False  True]\n",
      "bool\n"
     ]
    }
   ],
   "source": [
    "#int to boolean\n",
    "arr = np.array([1,0,3])\n",
    "newarr = arr.astype(bool)\n",
    "print(newarr)\n",
    "print(newarr.dtype)"
   ]
  },
  {
   "cell_type": "code",
   "execution_count": 41,
   "id": "88b4588e-32f6-4449-a1c9-15599397bcea",
   "metadata": {},
   "outputs": [
    {
     "name": "stdout",
     "output_type": "stream",
     "text": [
      "[1. 2. 3. 4.]\n",
      "float32\n"
     ]
    }
   ],
   "source": [
    "#int to float\n",
    "arr = np.array([1,2,3,4])\n",
    "newarr = arr.astype('f')\n",
    "print(newarr)\n",
    "print(newarr.dtype)"
   ]
  },
  {
   "cell_type": "code",
   "execution_count": 53,
   "id": "42111b13-22c0-43ed-a66d-55d4db6ae62a",
   "metadata": {},
   "outputs": [
    {
     "name": "stdout",
     "output_type": "stream",
     "text": [
      "[ 1  7  2 44  3  4]\n",
      "[1 7 2 0 3 4]\n"
     ]
    }
   ],
   "source": [
    "#copy method\n",
    "arr = np.array([1,7,2,0,3,4])\n",
    "z = arr.copy()\n",
    "arr[3] = 44\n",
    "print(arr)\n",
    "print(z)"
   ]
  },
  {
   "cell_type": "code",
   "execution_count": 55,
   "id": "f204d972-6327-45f0-837a-7547ef519cdd",
   "metadata": {},
   "outputs": [
    {
     "name": "stdout",
     "output_type": "stream",
     "text": [
      "[ 1  5  8 79  6  4  3]\n",
      "[ 1  5  8 79  6  4  3]\n"
     ]
    }
   ],
   "source": [
    "#view method\n",
    "arr = np.array([1,5,8,7,6,4,3])\n",
    "x = arr.view()\n",
    "arr[3] = 79\n",
    "print(arr)\n",
    "print(x)"
   ]
  },
  {
   "cell_type": "code",
   "execution_count": 57,
   "id": "adac81c9-7910-43a9-bf08-ffdb0bab4bfe",
   "metadata": {},
   "outputs": [
    {
     "name": "stdout",
     "output_type": "stream",
     "text": [
      "(2, 5)\n"
     ]
    }
   ],
   "source": [
    "#size\n",
    "arr = np.array([[1,2,3,4,5],\n",
    "               [3,5,4,2,1]])\n",
    "print(arr.shape)"
   ]
  },
  {
   "cell_type": "code",
   "execution_count": 65,
   "id": "7e68de3c-ff64-4d5d-9f1a-931e749ab6ba",
   "metadata": {},
   "outputs": [
    {
     "name": "stdout",
     "output_type": "stream",
     "text": [
      "16\n",
      "[[ 1  2  3  4]\n",
      " [ 5  6  7  8]\n",
      " [ 9 10 11 12]\n",
      " [13 14 15 16]]\n"
     ]
    }
   ],
   "source": [
    "#Reshaping arrays\n",
    "#converting 1D array to 2D array\n",
    "arr = np.array([1,2,3,4,5,6,7,8,9,10,11,12,13,14,15,16])\n",
    "print(arr.size)\n",
    "newarr = arr.reshape(4,4)\n",
    "print(newarr)"
   ]
  },
  {
   "cell_type": "code",
   "execution_count": 71,
   "id": "908c2e86-867b-4de5-95a6-cb3498d063ff",
   "metadata": {},
   "outputs": [
    {
     "name": "stdout",
     "output_type": "stream",
     "text": [
      "[[[ 1  2]\n",
      "  [ 3  4]\n",
      "  [ 5  6]\n",
      "  [ 7  8]]\n",
      "\n",
      " [[ 9 10]\n",
      "  [11 12]\n",
      "  [13 14]\n",
      "  [15 16]]]\n"
     ]
    }
   ],
   "source": [
    "#converting 1D array to 3D array\n",
    "arr = np.array([1,2,3,4,5,6,7,8,9,10,11,12,13,14,15,16])\n",
    "newarr = arr.reshape(2,4,2)\n",
    "print(newarr)"
   ]
  },
  {
   "cell_type": "code",
   "execution_count": 75,
   "id": "d543c507-4faa-4679-a623-4dd437fe9caf",
   "metadata": {},
   "outputs": [
    {
     "name": "stdout",
     "output_type": "stream",
     "text": [
      "[1 2 3 4 2 3 4 5 3 4 5 6 4 5 6 7]\n"
     ]
    }
   ],
   "source": [
    "#converting 2D array to 1D array\n",
    "arr = np.array([[1,2,3,4],\n",
    "                [2,3,4,5],\n",
    "                [3,4,5,6],\n",
    "                [4,5,6,7]])\n",
    "newarr = arr.reshape(16)\n",
    "print(newarr)"
   ]
  },
  {
   "cell_type": "code",
   "execution_count": 81,
   "id": "a6bec265-cb3c-44be-abac-5855deeed1d7",
   "metadata": {},
   "outputs": [
    {
     "name": "stdout",
     "output_type": "stream",
     "text": [
      "[[[1 2]\n",
      "  [3 4]]\n",
      "\n",
      " [[2 3]\n",
      "  [4 5]]\n",
      "\n",
      " [[3 4]\n",
      "  [5 6]]\n",
      "\n",
      " [[4 5]\n",
      "  [6 7]]]\n"
     ]
    }
   ],
   "source": [
    "#converting 2D array to 3D array\n",
    "arr = np.array([[1,2,3,4],\n",
    "                [2,3,4,5],\n",
    "                [3,4,5,6],\n",
    "                [4,5,6,7]])\n",
    "newarr = arr.reshape(4,2,2)\n",
    "print(newarr)\n"
   ]
  },
  {
   "cell_type": "code",
   "execution_count": 85,
   "id": "58bee8be-803b-4fc3-bd67-9260dd4bb5d1",
   "metadata": {},
   "outputs": [
    {
     "name": "stdout",
     "output_type": "stream",
     "text": [
      "[1 2 3 3 4 5 3 2 5 2 5 6 4 5 6 7 6 5]\n"
     ]
    }
   ],
   "source": [
    "#converting 3D array to 1D array\n",
    "arr = np.array([[[1,2,3],[3,4,5]],\n",
    "                [[3,2,5],[2,5,6]],\n",
    "                [[4,5,6],[7,6,5]]])\n",
    "newarr = arr.reshape(18)\n",
    "print(newarr)\n",
    "               "
   ]
  },
  {
   "cell_type": "code",
   "execution_count": 95,
   "id": "3671333b-9464-4e3c-9594-4168b0662dd8",
   "metadata": {},
   "outputs": [
    {
     "name": "stdout",
     "output_type": "stream",
     "text": [
      "[[1 2 3 3 4 5]\n",
      " [3 2 5 2 5 6]\n",
      " [4 5 6 7 6 5]]\n"
     ]
    }
   ],
   "source": [
    "#converting 3D array to 2D array\n",
    "arr = np.array([[[1,2,3],[3,4,5]],\n",
    "                [[3,2,5],[2,5,6]],\n",
    "                [[4,5,6],[7,6,5]]])\n",
    "newarr = arr.reshape(3,6)\n",
    "print(newarr) "
   ]
  },
  {
   "cell_type": "code",
   "execution_count": 154,
   "id": "43fa3ff9-f942-4d09-9805-43b20f50e62f",
   "metadata": {},
   "outputs": [
    {
     "name": "stdout",
     "output_type": "stream",
     "text": [
      "[  8  29  71  20 168]\n"
     ]
    },
    {
     "data": {
      "text/plain": [
       "array([  8,  29,  71,  20, 168])"
      ]
     },
     "execution_count": 154,
     "metadata": {},
     "output_type": "execute_result"
    }
   ],
   "source": [
    "#Arthmetic operations on 1D array\n",
    "#Addition\n",
    "arr1 = np.array([1,2,3,4,89])\n",
    "arr2 = np.array([7,27,68,16,79])\n",
    "print(arr1+arr2)\n",
    "np.add(arr1,arr2)"
   ]
  },
  {
   "cell_type": "code",
   "execution_count": 160,
   "id": "a81d6fdc-8f15-4e94-a041-89c75b1130da",
   "metadata": {},
   "outputs": [
    {
     "name": "stdout",
     "output_type": "stream",
     "text": [
      "[ -6 -25 -65 -12  10]\n"
     ]
    },
    {
     "data": {
      "text/plain": [
       "array([ -6, -25, -65, -12,  10])"
      ]
     },
     "execution_count": 160,
     "metadata": {},
     "output_type": "execute_result"
    }
   ],
   "source": [
    "#Subtraction \n",
    "print(arr1-arr2)\n",
    "np.subtract(arr1,arr2)"
   ]
  },
  {
   "cell_type": "code",
   "execution_count": 162,
   "id": "611d8e71-6bad-47be-a540-e8467de08bb9",
   "metadata": {},
   "outputs": [
    {
     "name": "stdout",
     "output_type": "stream",
     "text": [
      "[   7   54  204   64 7031]\n"
     ]
    },
    {
     "data": {
      "text/plain": [
       "array([   7,   54,  204,   64, 7031])"
      ]
     },
     "execution_count": 162,
     "metadata": {},
     "output_type": "execute_result"
    }
   ],
   "source": [
    "#multiplication\n",
    "print(arr1*arr2)\n",
    "np.multiply(arr1,arr2)"
   ]
  },
  {
   "cell_type": "code",
   "execution_count": 164,
   "id": "227bb079-41a0-4071-8a50-e88110114015",
   "metadata": {},
   "outputs": [
    {
     "name": "stdout",
     "output_type": "stream",
     "text": [
      "[0.14285714 0.07407407 0.04411765 0.25       1.12658228]\n"
     ]
    },
    {
     "data": {
      "text/plain": [
       "array([0.14285714, 0.07407407, 0.04411765, 0.25      , 1.12658228])"
      ]
     },
     "execution_count": 164,
     "metadata": {},
     "output_type": "execute_result"
    }
   ],
   "source": [
    "#division\n",
    "print(arr1/arr2)\n",
    "np.divide(arr1,arr2)"
   ]
  },
  {
   "cell_type": "code",
   "execution_count": 170,
   "id": "2371f07c-260a-4eb1-a0c9-74eca6a5714e",
   "metadata": {},
   "outputs": [
    {
     "name": "stdout",
     "output_type": "stream",
     "text": [
      "[0 0 0 0 1]\n"
     ]
    },
    {
     "data": {
      "text/plain": [
       "array([0, 0, 0, 0, 1])"
      ]
     },
     "execution_count": 170,
     "metadata": {},
     "output_type": "execute_result"
    }
   ],
   "source": [
    "#floor division\n",
    "print(arr1//arr2)\n",
    "np.floor_divide(arr1,arr2)"
   ]
  },
  {
   "cell_type": "code",
   "execution_count": 174,
   "id": "db22c3f6-94d3-4ca4-a86c-cd7b9a39c46b",
   "metadata": {},
   "outputs": [
    {
     "name": "stdout",
     "output_type": "stream",
     "text": [
      "[ 1  2  3  4 10]\n"
     ]
    },
    {
     "data": {
      "text/plain": [
       "array([ 1,  2,  3,  4, 10])"
      ]
     },
     "execution_count": 174,
     "metadata": {},
     "output_type": "execute_result"
    }
   ],
   "source": [
    "#modulus\n",
    "print(arr1%arr2)\n",
    "np.mod(arr1,arr2)"
   ]
  },
  {
   "cell_type": "code",
   "execution_count": 190,
   "id": "835b2123-53b7-4233-8491-a7a31029f3aa",
   "metadata": {},
   "outputs": [
    {
     "name": "stdout",
     "output_type": "stream",
     "text": [
      "Exponential of arr1: [2.71828183e+00 7.38905610e+00 2.00855369e+01 5.45981500e+01\n",
      " 4.48961282e+38]\n",
      "Exponential of arr2: [1.09663316e+03 5.32048241e+11 3.40427605e+29 8.88611052e+06\n",
      " 2.03828107e+34]\n"
     ]
    }
   ],
   "source": [
    "#exponential\n",
    "arr1 = np.array([1, 2, 3, 4, 89])\n",
    "arr2 = np.array([7, 27, 68, 16, 79])\n",
    "\n",
    "exp_arr1 = np.exp(arr1)     #e^x\n",
    "exp_arr2 = np.exp(arr2)\n",
    "\n",
    "print(\"Exponential of arr1:\", exp_arr1)\n",
    "print(\"Exponential of arr2:\", exp_arr2)"
   ]
  },
  {
   "cell_type": "code",
   "execution_count": 195,
   "id": "5f17767f-da9f-4b17-9d90-359b103df3dc",
   "metadata": {},
   "outputs": [
    {
     "name": "stdout",
     "output_type": "stream",
     "text": [
      "[1.         1.41421356 1.73205081 2.         9.43398113]\n",
      "[2.64575131 5.19615242 8.24621125 4.         8.88819442]\n"
     ]
    }
   ],
   "source": [
    "#squart root\n",
    "print(np.sqrt(arr1))\n",
    "print(np.sqrt(arr2))"
   ]
  },
  {
   "cell_type": "code",
   "execution_count": 197,
   "id": "3556af60-a1bf-4b59-a240-307ed8c6986e",
   "metadata": {},
   "outputs": [
    {
     "name": "stdout",
     "output_type": "stream",
     "text": [
      "Addition:\n",
      " [[ 6  9 11]\n",
      " [ 8 14 12]]\n",
      "Subtraction:\n",
      " [[-4 -5 -5]\n",
      " [ 0 -4  0]]\n",
      "Multiplication:\n",
      " [[ 5 14 24]\n",
      " [16 45 36]]\n",
      "Division:\n",
      " [[0.2        0.28571429 0.375     ]\n",
      " [1.         0.55555556 1.        ]]\n",
      "floor division:\n",
      " [[0 0 0]\n",
      " [1 0 1]]\n",
      "modulus:\n",
      " [[1 2 3]\n",
      " [0 5 0]]\n",
      "Exponential of x:\n",
      " [[  2.71828183   7.3890561   20.08553692]\n",
      " [ 54.59815003 148.4131591  403.42879349]]\n",
      "Exponential of y:\n",
      " [[ 148.4131591  1096.63315843 2980.95798704]\n",
      " [  54.59815003 8103.08392758  403.42879349]]\n",
      "square root of x:\n",
      " [[1.         1.41421356 1.73205081]\n",
      " [2.         2.23606798 2.44948974]]\n",
      "square root of y:\n",
      " [[2.23606798 2.64575131 2.82842712]\n",
      " [2.         3.         2.44948974]]\n"
     ]
    }
   ],
   "source": [
    "#Arthmetic operation on 2D array\n",
    "x = np.array([[1, 2, 3], [4, 5, 6]])\n",
    "y = np.array([[5, 7, 8], [4, 9, 6]])\n",
    "\n",
    "add_result = x + y\n",
    "sub_result = x - y\n",
    "mul_result = x * y\n",
    "div_result = x / y\n",
    "floor_result = x//y\n",
    "mod_result = x%y\n",
    "\n",
    "exp_x = np.exp(x)\n",
    "exp_y = np.exp(y)\n",
    "\n",
    "sqrt_x = np.sqrt(x)\n",
    "sqrt_y = np.sqrt(y)\n",
    "print(\"Addition:\\n\", add_result)\n",
    "print(\"Subtraction:\\n\", sub_result)\n",
    "print(\"Multiplication:\\n\", mul_result)\n",
    "print(\"Division:\\n\", div_result)\n",
    "print(\"floor division:\\n\",floor_result)\n",
    "print(\"modulus:\\n\",mod_result)\n",
    "print(\"Exponential of x:\\n\", exp_x)\n",
    "print(\"Exponential of y:\\n\", exp_y)\n",
    "print(\"square root of x:\\n\", sqrt_x)\n",
    "print(\"square root of y:\\n\", sqrt_y)"
   ]
  },
  {
   "cell_type": "code",
   "execution_count": 199,
   "id": "fd5e6bb7-8bd1-46a8-8b6c-c2532f71e361",
   "metadata": {},
   "outputs": [
    {
     "name": "stdout",
     "output_type": "stream",
     "text": [
      "Addition:\n",
      " [[[ 6  9 11]\n",
      "  [ 8 14 12]]\n",
      "\n",
      " [[10 10 10]\n",
      "  [18 18 17]]]\n",
      "Subtraction:\n",
      " [[[-4 -5 -5]\n",
      "  [ 0 -4  0]]\n",
      "\n",
      " [[ 4  6  8]\n",
      "  [ 2  4  7]]]\n",
      "Multiplication:\n",
      " [[[ 5 14 24]\n",
      "  [16 45 36]]\n",
      "\n",
      " [[21 16  9]\n",
      "  [80 77 60]]]\n",
      "Division:\n",
      " [[[0.2        0.28571429 0.375     ]\n",
      "  [1.         0.55555556 1.        ]]\n",
      "\n",
      " [[2.33333333 4.         9.        ]\n",
      "  [1.25       1.57142857 2.4       ]]]\n",
      "floor division:\n",
      " [[[0 0 0]\n",
      "  [1 0 1]]\n",
      "\n",
      " [[2 4 9]\n",
      "  [1 1 2]]]\n",
      "modulus:\n",
      " [[[1 2 3]\n",
      "  [0 5 0]]\n",
      "\n",
      " [[1 0 0]\n",
      "  [2 4 2]]]\n",
      "Exponential of x:\n",
      " [[[2.71828183e+00 7.38905610e+00 2.00855369e+01]\n",
      "  [5.45981500e+01 1.48413159e+02 4.03428793e+02]]\n",
      "\n",
      " [[1.09663316e+03 2.98095799e+03 8.10308393e+03]\n",
      "  [2.20264658e+04 5.98741417e+04 1.62754791e+05]]]\n",
      "Exponential of y:\n",
      " [[[1.48413159e+02 1.09663316e+03 2.98095799e+03]\n",
      "  [5.45981500e+01 8.10308393e+03 4.03428793e+02]]\n",
      "\n",
      " [[2.00855369e+01 7.38905610e+00 2.71828183e+00]\n",
      "  [2.98095799e+03 1.09663316e+03 1.48413159e+02]]]\n",
      "square root of x:\n",
      " [[[1.         1.41421356 1.73205081]\n",
      "  [2.         2.23606798 2.44948974]]\n",
      "\n",
      " [[2.64575131 2.82842712 3.        ]\n",
      "  [3.16227766 3.31662479 3.46410162]]]\n",
      "square root of y:\n",
      " [[[2.23606798 2.64575131 2.82842712]\n",
      "  [2.         3.         2.44948974]]\n",
      "\n",
      " [[1.73205081 1.41421356 1.        ]\n",
      "  [2.82842712 2.64575131 2.23606798]]]\n"
     ]
    }
   ],
   "source": [
    "#Arthmetic operation on 3D array\n",
    "x = np.array([[[1, 2, 3], [4, 5, 6]], [[7, 8, 9], [10, 11, 12]]])\n",
    "y = np.array([[[5, 7, 8], [4, 9, 6]], [[3, 2, 1], [8, 7, 5]]])\n",
    "\n",
    "add_result = x + y\n",
    "sub_result = x - y\n",
    "mul_result = x * y\n",
    "div_result = x / y\n",
    "floor_result = x//y\n",
    "mod_result = x%y\n",
    "\n",
    "exp_x = np.exp(x)\n",
    "exp_y = np.exp(y)\n",
    "\n",
    "sqrt_x = np.sqrt(x)\n",
    "sqrt_y = np.sqrt(y)\n",
    "print(\"Addition:\\n\", add_result)\n",
    "print(\"Subtraction:\\n\", sub_result)\n",
    "print(\"Multiplication:\\n\", mul_result)\n",
    "print(\"Division:\\n\", div_result)\n",
    "print(\"floor division:\\n\",floor_result)\n",
    "print(\"modulus:\\n\",mod_result)\n",
    "print(\"Exponential of x:\\n\", exp_x)\n",
    "print(\"Exponential of y:\\n\", exp_y)\n",
    "print(\"square root of x:\\n\", sqrt_x)\n",
    "print(\"square root of y:\\n\", sqrt_y)"
   ]
  },
  {
   "cell_type": "code",
   "execution_count": 201,
   "id": "93735a9b-4663-486a-9882-2c7c06cb5ee1",
   "metadata": {},
   "outputs": [
    {
     "data": {
      "text/plain": [
       "array([ 5,  7, 10, 51, 98])"
      ]
     },
     "execution_count": 201,
     "metadata": {},
     "output_type": "execute_result"
    }
   ],
   "source": [
    "#sorting array\n",
    "arr = np.array([5,7,10,51,98])\n",
    "np.sort(arr)"
   ]
  },
  {
   "cell_type": "code",
   "execution_count": 203,
   "id": "c6956dd9-15bf-42f4-bfde-28db3c2e0427",
   "metadata": {},
   "outputs": [
    {
     "name": "stdout",
     "output_type": "stream",
     "text": [
      "[15 17 85 25 99 57]\n",
      "[ 2 15 17 85 25 99 57 34]\n",
      "[34 44]\n"
     ]
    }
   ],
   "source": [
    "#slicing array\n",
    "#slicing 1D array\n",
    "arr = np.array([2,15,17,85,25,99,57,34,44])\n",
    "n = len(arr)\n",
    "print(arr[1:7])\n",
    "print(arr[:n-1])\n",
    "print(arr[7:])"
   ]
  },
  {
   "cell_type": "code",
   "execution_count": 205,
   "id": "9bb36e1e-33e4-4e7d-87d0-ef61675b6be3",
   "metadata": {},
   "outputs": [
    {
     "name": "stdout",
     "output_type": "stream",
     "text": [
      "[ 2 15 17 85 25 99 57 34 44]\n",
      "[34]\n",
      "[ 2 85 57]\n",
      "[15 25 34]\n"
     ]
    }
   ],
   "source": [
    "#negative slicing\n",
    "arr = np.array([2,15,17,85,25,99,57,34,44])\n",
    "n = len(arr)\n",
    "print(arr[:])\n",
    "print(arr[-2:n-1])\n",
    "print(arr[::3])\n",
    "print(arr[1:9:3])"
   ]
  },
  {
   "cell_type": "code",
   "execution_count": 207,
   "id": "e2878814-bca9-42ee-9285-63c46fd711e4",
   "metadata": {},
   "outputs": [
    {
     "name": "stdout",
     "output_type": "stream",
     "text": [
      "[4 5 6]\n"
     ]
    }
   ],
   "source": [
    "#slicing 2D array\n",
    "arr = np.array([[1, 2, 3], [4, 5, 6]])\n",
    "print(arr[1,0: ])"
   ]
  },
  {
   "cell_type": "code",
   "execution_count": 209,
   "id": "b48dbf4a-0754-44db-b186-c4ab2dd0d316",
   "metadata": {},
   "outputs": [
    {
     "name": "stdout",
     "output_type": "stream",
     "text": [
      "[[ 4  5  6]\n",
      " [10 11 12]]\n"
     ]
    }
   ],
   "source": [
    "#slicing 3D array\n",
    "arr = np.array([[[1, 2, 3], [4, 5, 6]], \n",
    "                [[7, 8, 9], [10, 11, 12]]])\n",
    "print(arr[0:6,1])"
   ]
  },
  {
   "cell_type": "code",
   "execution_count": null,
   "id": "35fdf60c-8d49-468d-b5d9-575b18672c7b",
   "metadata": {},
   "outputs": [],
   "source": []
  }
 ],
 "metadata": {
  "kernelspec": {
   "display_name": "Python 3 (ipykernel)",
   "language": "python",
   "name": "python3"
  },
  "language_info": {
   "codemirror_mode": {
    "name": "ipython",
    "version": 3
   },
   "file_extension": ".py",
   "mimetype": "text/x-python",
   "name": "python",
   "nbconvert_exporter": "python",
   "pygments_lexer": "ipython3",
   "version": "3.12.4"
  }
 },
 "nbformat": 4,
 "nbformat_minor": 5
}
