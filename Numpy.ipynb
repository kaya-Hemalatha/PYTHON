{
 "cells": [
  {
   "cell_type": "code",
   "execution_count": 3,
   "id": "4da4d0cb-9716-4aea-a5b5-0a12ecccdb1d",
   "metadata": {},
   "outputs": [
    {
     "name": "stdout",
     "output_type": "stream",
     "text": [
      "Requirement already satisfied: Numpy in c:\\users\\kayah\\anaconda\\lib\\site-packages (1.26.4)\n"
     ]
    }
   ],
   "source": [
    "!pip install Numpy"
   ]
  },
  {
   "cell_type": "code",
   "execution_count": 9,
   "id": "8a89471e-5669-4e25-a0a8-29e7444ed580",
   "metadata": {},
   "outputs": [
    {
     "name": "stdout",
     "output_type": "stream",
     "text": [
      "[1 2 3]\n",
      "[[2.3 1.  3. ]\n",
      " [7.  8.  9. ]]\n",
      "[[[2.3 1.  3. ]\n",
      "  [7.  8.  9. ]]\n",
      "\n",
      " [[1.5 2.5 3.5]\n",
      "  [6.  4.9 2. ]]]\n"
     ]
    }
   ],
   "source": [
    "#importing numpy\n",
    "import numpy as np\n",
    "#creating numpy\n",
    "a = np.array([1,2,3])  #1D\n",
    "b = np.array([(2.3,1,3),(7,8,9)],dtype = float)\n",
    "c = np.array([[(2.3,1,3),(7,8,9)],[(1.5,2.5,3.5),(6,4.9,2)]],dtype = float)\n",
    "print(a)\n",
    "print(b)\n",
    "print(c)"
   ]
  },
  {
   "cell_type": "code",
   "execution_count": 18,
   "id": "95492f25-6f74-4fb0-b1c6-6ef8115685a7",
   "metadata": {},
   "outputs": [
    {
     "data": {
      "text/plain": [
       "array([0., 0., 0.])"
      ]
     },
     "execution_count": 18,
     "metadata": {},
     "output_type": "execute_result"
    }
   ],
   "source": [
    "#initial placeholders\n",
    "#create an array of zeros\n",
    "np.zeros((3))   #creating 1D array"
   ]
  },
  {
   "cell_type": "code",
   "execution_count": 20,
   "id": "2c0c8116-0a3e-4663-8725-e49aeebf8a57",
   "metadata": {},
   "outputs": [
    {
     "data": {
      "text/plain": [
       "array([[0., 0., 0.],\n",
       "       [0., 0., 0.]])"
      ]
     },
     "execution_count": 20,
     "metadata": {},
     "output_type": "execute_result"
    }
   ],
   "source": [
    "np.zeros((2,3))  #creating 2D array"
   ]
  },
  {
   "cell_type": "code",
   "execution_count": 22,
   "id": "bacdb810-389b-4c49-a57b-c65e741fe080",
   "metadata": {},
   "outputs": [
    {
     "data": {
      "text/plain": [
       "array([[[1., 1., 1., 1.],\n",
       "        [1., 1., 1., 1.],\n",
       "        [1., 1., 1., 1.]],\n",
       "\n",
       "       [[1., 1., 1., 1.],\n",
       "        [1., 1., 1., 1.],\n",
       "        [1., 1., 1., 1.]]])"
      ]
     },
     "execution_count": 22,
     "metadata": {},
     "output_type": "execute_result"
    }
   ],
   "source": [
    "#create an array of ones\n",
    "np.ones((2,3,4))  #shape, rows,cols"
   ]
  },
  {
   "cell_type": "code",
   "execution_count": 26,
   "id": "91146707-2d9c-418b-a4bc-fdc3e06a82fa",
   "metadata": {},
   "outputs": [
    {
     "name": "stdout",
     "output_type": "stream",
     "text": [
      "[ 1  5  9 13 17 21 25 29 33 37]\n"
     ]
    }
   ],
   "source": [
    "#creating an array of evenly spaced values\n",
    "d = np.arange(1,40,4)   #n-1 = (4-1 = 2)\n",
    "print(d)"
   ]
  },
  {
   "cell_type": "code",
   "execution_count": 42,
   "id": "2cf5cb05-ff85-4275-b3bc-feee72c64eed",
   "metadata": {},
   "outputs": [
    {
     "data": {
      "text/plain": [
       "array([10.        , 12.14285714, 14.28571429, 16.42857143, 18.57142857,\n",
       "       20.71428571, 22.85714286, 25.        ])"
      ]
     },
     "execution_count": 42,
     "metadata": {},
     "output_type": "execute_result"
    }
   ],
   "source": [
    "#create an array of evenly spaced values \n",
    "np.linspace(10,25,8)"
   ]
  },
  {
   "cell_type": "code",
   "execution_count": 44,
   "id": "c5128a7d-d2b5-491f-8d9d-ebbd0aae67c6",
   "metadata": {},
   "outputs": [
    {
     "name": "stdout",
     "output_type": "stream",
     "text": [
      "[10 10 10 10 10]\n",
      "1\n"
     ]
    }
   ],
   "source": [
    "#create a constant array\n",
    "#create 1D array\n",
    "e = np.full((5),10)\n",
    "print(e)\n",
    "print(e.ndim)"
   ]
  },
  {
   "cell_type": "code",
   "execution_count": 48,
   "id": "45556926-a32d-4442-9883-37333eb79084",
   "metadata": {},
   "outputs": [
    {
     "name": "stdout",
     "output_type": "stream",
     "text": [
      "[[55 55 55 55]\n",
      " [55 55 55 55]\n",
      " [55 55 55 55]\n",
      " [55 55 55 55]\n",
      " [55 55 55 55]]\n",
      "2\n"
     ]
    }
   ],
   "source": [
    "#create 2D array\n",
    "e = np.full((5,4),55)\n",
    "print(e)\n",
    "print(e.ndim)"
   ]
  },
  {
   "cell_type": "code",
   "execution_count": 52,
   "id": "6b57af4d-33fb-43c7-aac8-bbf449c09639",
   "metadata": {},
   "outputs": [
    {
     "name": "stdout",
     "output_type": "stream",
     "text": [
      "[[[8 8 8]\n",
      "  [8 8 8]\n",
      "  [8 8 8]\n",
      "  [8 8 8]]\n",
      "\n",
      " [[8 8 8]\n",
      "  [8 8 8]\n",
      "  [8 8 8]\n",
      "  [8 8 8]]\n",
      "\n",
      " [[8 8 8]\n",
      "  [8 8 8]\n",
      "  [8 8 8]\n",
      "  [8 8 8]]\n",
      "\n",
      " [[8 8 8]\n",
      "  [8 8 8]\n",
      "  [8 8 8]\n",
      "  [8 8 8]]\n",
      "\n",
      " [[8 8 8]\n",
      "  [8 8 8]\n",
      "  [8 8 8]\n",
      "  [8 8 8]]\n",
      "\n",
      " [[8 8 8]\n",
      "  [8 8 8]\n",
      "  [8 8 8]\n",
      "  [8 8 8]]]\n",
      "3\n"
     ]
    }
   ],
   "source": [
    "#create 3D array\n",
    "e = np.full((6,4,3),8)\n",
    "print(e)\n",
    "print(e.ndim)"
   ]
  },
  {
   "cell_type": "code",
   "execution_count": 58,
   "id": "fbd4686f-abc6-40e1-bce4-5891713b5f6d",
   "metadata": {},
   "outputs": [
    {
     "name": "stdout",
     "output_type": "stream",
     "text": [
      "[[1. 0. 0. 0.]\n",
      " [0. 1. 0. 0.]\n",
      " [0. 0. 1. 0.]\n",
      " [0. 0. 0. 1.]]\n"
     ]
    }
   ],
   "source": [
    "#create a 2*2 identity matrix\n",
    "f = np.eye(4)\n",
    "print(f)"
   ]
  },
  {
   "cell_type": "code",
   "execution_count": 62,
   "id": "e70997fe-66d3-4308-a38a-129bd997829c",
   "metadata": {},
   "outputs": [
    {
     "data": {
      "text/plain": [
       "array([[0.18478674, 0.92555527, 0.96171253, 0.58723292, 0.85820582],\n",
       "       [0.81282752, 0.20628411, 0.68413132, 0.7369891 , 0.1231294 ],\n",
       "       [0.79214971, 0.20894245, 0.716696  , 0.02223941, 0.57534763],\n",
       "       [0.64455881, 0.62463597, 0.69861354, 0.17730574, 0.43612525]])"
      ]
     },
     "execution_count": 62,
     "metadata": {},
     "output_type": "execute_result"
    }
   ],
   "source": [
    "#create an array with random values\n",
    "np.random.random((4,5))  #row,columns"
   ]
  },
  {
   "cell_type": "code",
   "execution_count": 68,
   "id": "90315f6d-7a7f-451c-8a7b-08bfe2880140",
   "metadata": {},
   "outputs": [
    {
     "data": {
      "text/plain": [
       "11"
      ]
     },
     "execution_count": 68,
     "metadata": {},
     "output_type": "execute_result"
    }
   ],
   "source": [
    "np.random.randint(1,15)"
   ]
  },
  {
   "cell_type": "code",
   "execution_count": 70,
   "id": "4567059a-d2ea-4983-86f6-f916efbf60b2",
   "metadata": {},
   "outputs": [
    {
     "name": "stdout",
     "output_type": "stream",
     "text": [
      "(4, 4)\n"
     ]
    }
   ],
   "source": [
    "#to find shape of an array \n",
    "arr = np.array([[1,2,3,4],\n",
    "               [2,3,4,5],\n",
    "               [3,4,5,6],\n",
    "               [7,8,5,6]])\n",
    "print(arr.shape)"
   ]
  },
  {
   "cell_type": "code",
   "execution_count": 72,
   "id": "16890902-3e9f-44ba-aeb0-4f94e1570af1",
   "metadata": {},
   "outputs": [
    {
     "name": "stdout",
     "output_type": "stream",
     "text": [
      "9\n"
     ]
    }
   ],
   "source": [
    "#to find no of elements in array\n",
    "arr = np.array([[1,2,3],\n",
    "                [4,5,6],\n",
    "                [7,8,9]])\n",
    "print(arr.size)"
   ]
  },
  {
   "cell_type": "code",
   "execution_count": 74,
   "id": "16c3fb0e-a06c-4fea-ba8e-33af82ddad6a",
   "metadata": {},
   "outputs": [
    {
     "data": {
      "text/plain": [
       "5"
      ]
     },
     "execution_count": 74,
     "metadata": {},
     "output_type": "execute_result"
    }
   ],
   "source": [
    "#to find len of array\n",
    "arr = np.array([[1,2,3,4],\n",
    "                [4,5,6,7],\n",
    "                [5,6,7,8],\n",
    "                [3,4,5,2],\n",
    "                [2,8,9,3]])\n",
    "len(arr)"
   ]
  },
  {
   "cell_type": "code",
   "execution_count": null,
   "id": "52701dcf-f984-49e0-afa6-a03134ec2f11",
   "metadata": {},
   "outputs": [],
   "source": []
  }
 ],
 "metadata": {
  "kernelspec": {
   "display_name": "Python 3 (ipykernel)",
   "language": "python",
   "name": "python3"
  },
  "language_info": {
   "codemirror_mode": {
    "name": "ipython",
    "version": 3
   },
   "file_extension": ".py",
   "mimetype": "text/x-python",
   "name": "python",
   "nbconvert_exporter": "python",
   "pygments_lexer": "ipython3",
   "version": "3.12.4"
  }
 },
 "nbformat": 4,
 "nbformat_minor": 5
}
